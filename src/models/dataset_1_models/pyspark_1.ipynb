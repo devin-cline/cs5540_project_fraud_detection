{
 "cells": [
  {
   "cell_type": "code",
   "execution_count": null,
   "id": "dce54194",
   "metadata": {},
   "outputs": [],
   "source": [
    "from pyspark.sql import SparkSession\n",
    "from pyspark.ml.feature import VectorAssembler, MinMaxScaler\n",
    "from pyspark.ml import Pipeline\n",
    "from pyspark.ml.classification import RandomForestClassifier, GBTClassifier, LogisticRegression\n",
    "from pyspark.ml.evaluation import BinaryClassificationEvaluator"
   ]
  },
  {
   "cell_type": "code",
   "execution_count": null,
   "id": "0e736649",
   "metadata": {},
   "outputs": [],
   "source": [
    "# create a SparkSession\n",
    "spark = SparkSession.builder.appName(\"EnsembleModel\").getOrCreate()\n",
    "\n",
    "# read the csv\n",
    "data = spark.read.csv(\"../../../data/model_data.csv\", header=True, inferSchema=True)\n",
    "data.show(5)"
   ]
  },
  {
   "cell_type": "code",
   "execution_count": null,
   "id": "60381c9b",
   "metadata": {},
   "outputs": [],
   "source": [
    "# assemble the feature vector \n",
    "feature_cols = [col for col in data.columns if col != \"isFraud\"] \n",
    "assembler = VectorAssembler(inputCols=feature_cols, outputCol=\"rawFeatures\")\n",
    "data = assembler.transform(df)\n",
    "data.show(5)"
   ]
  },
  {
   "cell_type": "code",
   "execution_count": null,
   "id": "65f58c18",
   "metadata": {},
   "outputs": [],
   "source": [
    "# apply MinMaxScaler for scaling the features\n",
    "scaler = MinMaxScaler(inputCol=\"rawFeatures\", outputCol=\"scaledFeatures\")\n",
    "data = scaler.fit(data).transform(data)\n",
    "data.show(5)"
   ]
  },
  {
   "cell_type": "code",
   "execution_count": null,
   "id": "2fb128d7",
   "metadata": {},
   "outputs": [],
   "source": [
    "# split into training and test\n",
    "train, test = data.randomSplit([0.7, 0.3], seed=1)"
   ]
  },
  {
   "cell_type": "code",
   "execution_count": null,
   "id": "955c0cd1",
   "metadata": {},
   "outputs": [],
   "source": [
    "# create an ensemble model pipeline\n",
    "rf = RandomForestClassifier(labelCol=\"isFraud\", featuresCol=\"scaledFeatures\", numTrees=10)\n",
    "gbt = GBTClassifier(labelCol=\"isFraud\", featuresCol=\"scaledFeatures\", maxIter=10)\n",
    "lr = LogisticRegression(labelCol=\"isFraud\", featuresCol=\"scaledFeatures\")\n",
    "\n",
    "pipeline = Pipeline(stages=[rf, gbt, lr])"
   ]
  },
  {
   "cell_type": "code",
   "execution_count": null,
   "id": "302844b3",
   "metadata": {},
   "outputs": [],
   "source": [
    "# train the ensemble model\n",
    "model = pipeline.fit(train)"
   ]
  },
  {
   "cell_type": "code",
   "execution_count": null,
   "id": "35922a1d",
   "metadata": {},
   "outputs": [],
   "source": [
    "# make predictions on the test data\n",
    "predictions = model.transform(test)\n",
    "predictions.show(5)"
   ]
  },
  {
   "cell_type": "code",
   "execution_count": null,
   "id": "362a2ac5",
   "metadata": {},
   "outputs": [],
   "source": [
    "# evaluate the model using a BinaryClassificationEvaluator\n",
    "evaluator = BinaryClassificationEvaluator()\n",
    "accuracy = evaluator.evaluate(predictions, {evaluator.metricName: \"accuracy\"})\n",
    "precision = evaluator.evaluate(predictions, {evaluator.metricName: \"precisionByLabel\"})\n",
    "recall = evaluator.evaluate(predictions, {evaluator.metricName: \"recallByLabel\"})\n",
    "\n",
    "# print the evaluation metrics\n",
    "print(\"Accuracy:\", accuracy)\n",
    "print(\"Precision:\", precision)\n",
    "print(\"Recall:\", recall)"
   ]
  }
 ],
 "metadata": {
  "kernelspec": {
   "display_name": "Python 3 (ipykernel)",
   "language": "python",
   "name": "python3"
  },
  "language_info": {
   "codemirror_mode": {
    "name": "ipython",
    "version": 3
   },
   "file_extension": ".py",
   "mimetype": "text/x-python",
   "name": "python",
   "nbconvert_exporter": "python",
   "pygments_lexer": "ipython3",
   "version": "3.9.12"
  }
 },
 "nbformat": 4,
 "nbformat_minor": 5
}
