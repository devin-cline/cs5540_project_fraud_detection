{
 "cells": [
  {
   "cell_type": "code",
   "execution_count": null,
   "id": "4c1f674a",
   "metadata": {},
   "outputs": [],
   "source": [
    "from pyspark.sql import SparkSession\n",
    "from pyspark.ml.feature import VectorAssembler\n",
    "from pyspark.ml import Pipeline\n",
    "from pyspark.ml.classification import RandomForestClassifier, GBTClassifier, LogisticRegression\n",
    "from pyspark.ml.evaluation import BinaryClassificationEvaluator"
   ]
  },
  {
   "cell_type": "code",
   "execution_count": null,
   "id": "48ffc8be",
   "metadata": {},
   "outputs": [],
   "source": [
    "# create a SparkSession\n",
    "spark = SparkSession.builder.appName(\"EnsembleModel\").getOrCreate()\n",
    "\n",
    "# read the csv\n",
    "df = spark.read.csv(\"../../../data/model_data.csv\", header=True, inferSchema=True)"
   ]
  },
  {
   "cell_type": "code",
   "execution_count": null,
   "id": "26a34a4c",
   "metadata": {},
   "outputs": [],
   "source": [
    "# split the data into training and test sets\n",
    "train_data, test_data = df.randomSplit([0.8, 0.2], seed=123)\n",
    "\n",
    "# assemble the feature vector\n",
    "feature_cols = df.columns[:-1]  # exclude the label column\n",
    "vectorAssembler = VectorAssembler(inputCols=feature_cols, outputCol=\"rawFeatures\")"
   ]
  },
  {
   "cell_type": "code",
   "execution_count": null,
   "id": "f83c029a",
   "metadata": {},
   "outputs": [],
   "source": [
    "# apply MinMaxScaler for scaling the features\n",
    "scaler = MinMaxScaler(inputCol=\"rawFeatures\", outputCol=\"features\")"
   ]
  },
  {
   "cell_type": "code",
   "execution_count": null,
   "id": "1e0447c6",
   "metadata": {},
   "outputs": [],
   "source": [
    "# create an ensemble model pipeline\n",
    "rf = RandomForestClassifier(labelCol=\"isFraud\", featuresCol=\"features\", numTrees=10)\n",
    "gbt = GBTClassifier(labelCol=\"isFraud\", featuresCol=\"features\", maxIter=10)\n",
    "lr = LogisticRegression(labelCol=\"isFraud\", featuresCol=\"features\")\n",
    "\n",
    "pipeline = Pipeline(stages=[vectorAssembler, rf, gbt, lr])"
   ]
  },
  {
   "cell_type": "code",
   "execution_count": null,
   "id": "5abcd233",
   "metadata": {},
   "outputs": [],
   "source": [
    "# train the ensemble model\n",
    "model = pipeline.fit(train_data)"
   ]
  },
  {
   "cell_type": "code",
   "execution_count": null,
   "id": "1baf08a5",
   "metadata": {},
   "outputs": [],
   "source": [
    "# make predictions on the test data\n",
    "predictions = model.transform(test_data)"
   ]
  },
  {
   "cell_type": "code",
   "execution_count": null,
   "id": "fec1adf1",
   "metadata": {},
   "outputs": [],
   "source": [
    "# evaluate the model using a BinaryClassificationEvaluator\n",
    "evaluator = BinaryClassificationEvaluator()\n",
    "accuracy = evaluator.evaluate(predictions, {evaluator.metricName: \"accuracy\"})\n",
    "precision = evaluator.evaluate(predictions, {evaluator.metricName: \"precisionByLabel\"})\n",
    "recall = evaluator.evaluate(predictions, {evaluator.metricName: \"recallByLabel\"})\n",
    "\n",
    "# print the evaluation metrics\n",
    "print(\"Accuracy:\", accuracy)\n",
    "print(\"Precision:\", precision)\n",
    "print(\"Recall:\", recall)"
   ]
  }
 ],
 "metadata": {
  "kernelspec": {
   "display_name": "Python 3 (ipykernel)",
   "language": "python",
   "name": "python3"
  },
  "language_info": {
   "codemirror_mode": {
    "name": "ipython",
    "version": 3
   },
   "file_extension": ".py",
   "mimetype": "text/x-python",
   "name": "python",
   "nbconvert_exporter": "python",
   "pygments_lexer": "ipython3",
   "version": "3.9.12"
  }
 },
 "nbformat": 4,
 "nbformat_minor": 5
}
