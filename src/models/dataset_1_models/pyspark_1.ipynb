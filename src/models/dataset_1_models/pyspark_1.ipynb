{
 "cells": [
  {
   "cell_type": "code",
   "execution_count": null,
   "id": "dce54194",
   "metadata": {},
   "outputs": [],
   "source": [
    "from pyspark.sql import SparkSession\n",
    "from pyspark.ml.feature import VectorAssembler, MinMaxScaler\n",
    "from pyspark.ml import Pipeline\n",
    "from pyspark.ml.classification import RandomForestClassifier, GBTClassifier, LogisticRegression\n",
    "from pyspark.sql.functions import col, round, when"
   ]
  },
  {
   "cell_type": "code",
   "execution_count": null,
   "id": "0e736649",
   "metadata": {},
   "outputs": [],
   "source": [
    "# create a SparkSession\n",
    "spark = SparkSession.builder.appName(\"EnsembleModel\").getOrCreate()\n",
    "\n",
    "# read the csv\n",
    "data = spark.read.csv(\"../../../data/model_data.csv\", header=True, inferSchema=True)\n",
    "data.show(5)"
   ]
  },
  {
   "cell_type": "code",
   "execution_count": null,
   "id": "60381c9b",
   "metadata": {},
   "outputs": [],
   "source": [
    "# assemble the feature vector\n",
    "feature_cols = [col for col in data.columns if col != \"isFraud\"]\n",
    "assembler = VectorAssembler(inputCols=feature_cols, outputCol=\"rawFeatures\")\n",
    "data = assembler.transform(data)\n",
    "data.show(5)"
   ]
  },
  {
   "cell_type": "code",
   "execution_count": null,
   "id": "65f58c18",
   "metadata": {},
   "outputs": [],
   "source": [
    "# apply MinMaxScaler for scaling the features\n",
    "assembler = VectorAssembler(inputCols=[\"rawFeatures\"], outputCol=\"features\")\n",
    "data = assembler.transform(data)\n",
    "\n",
    "scaler = MinMaxScaler(inputCol=\"features\", outputCol=\"scaledFeatures\", min=0.0, max=1.0)\n",
    "scalerModel = scaler.fit(data)\n",
    "\n",
    "data = scalerModel.transform(data)\n",
    "data.show(5)"
   ]
  },
  {
   "cell_type": "code",
   "execution_count": null,
   "id": "ba60bf9a",
   "metadata": {},
   "outputs": [],
   "source": [
    "# create class weight column based on values created by compute_class_weight used in other models\n",
    "data = data.withColumn('weight', when(col('isFraud') == 0, 0.5006457829418431).otherwise(387.6269799825936))\n",
    "data.show(5)"
   ]
  },
  {
   "cell_type": "code",
   "execution_count": null,
   "id": "2fb128d7",
   "metadata": {},
   "outputs": [],
   "source": [
    "# split into training and test\n",
    "train, test = data.randomSplit([0.8, 0.2], seed=1)"
   ]
  },
  {
   "cell_type": "code",
   "execution_count": null,
   "id": "955c0cd1",
   "metadata": {},
   "outputs": [],
   "source": [
    "# create an ensemble model pipeline\n",
    "rf = RandomForestClassifier(labelCol=\"isFraud\", featuresCol=\"scaledFeatures\", numTrees=64, rawPredictionCol=\"rf_rawPrediction\", predictionCol=\"rf_prediction\", probabilityCol=\"rf_probability\", seed=1,  weightCol=\"weight\")\n",
    "gbt = GBTClassifier(labelCol=\"isFraud\", featuresCol=\"scaledFeatures\", maxIter=20, predictionCol=\"gbt_prediction\", seed=1,  weightCol=\"weight\")\n",
    "lr = LogisticRegression(labelCol=\"isFraud\", featuresCol=\"scaledFeatures\", rawPredictionCol=\"lr_rawPrediction\", predictionCol=\"lr_prediction\", probabilityCol=\"lr_probability\",  weightCol=\"weight\")\n",
    "\n",
    "pipeline = Pipeline(stages=[rf, gbt, lr])"
   ]
  },
  {
   "cell_type": "code",
   "execution_count": null,
   "id": "302844b3",
   "metadata": {},
   "outputs": [],
   "source": [
    "# train the ensemble model\n",
    "model = pipeline.fit(train)"
   ]
  },
  {
   "cell_type": "code",
   "execution_count": null,
   "id": "35922a1d",
   "metadata": {},
   "outputs": [],
   "source": [
    "# make predictions on the test data\n",
    "predictions = model.transform(test)\n",
    "predictions.show(5)"
   ]
  },
  {
   "cell_type": "code",
   "execution_count": null,
   "id": "362a2ac5",
   "metadata": {},
   "outputs": [],
   "source": [
    "# create column of predictions based on three models\n",
    "predictions = predictions.withColumn(\"ensemble_prediction\", round((col(\"lr_prediction\") + col(\"gbt_prediction\") + col(\"rf_prediction\")) / 3))\n",
    "predictions.show(5)"
   ]
  },
  {
   "cell_type": "code",
   "execution_count": null,
   "id": "6975ab12",
   "metadata": {},
   "outputs": [],
   "source": [
    "# ENSEMBLE MODEL Metrics\n",
    "# Compute accuracy\n",
    "total_count = predictions.count()\n",
    "correct_count = predictions.filter(col(\"ensemble_prediction\") == col(\"isFraud\")).count()\n",
    "accuracy = correct_count / total_count\n",
    "\n",
    "# Compute recall (true positive rate)\n",
    "tp = predictions.filter((col(\"ensemble_prediction\") == 1) & (col(\"isFraud\") == 1)).count()\n",
    "fn = predictions.filter((col(\"ensemble_prediction\") == 0) & (col(\"isFraud\") == 1)).count()\n",
    "recall = tp / (tp + fn)\n",
    "\n",
    "# Compute precision\n",
    "tp = predictions.filter((col(\"ensemble_prediction\") == 1) & (col(\"isFraud\") == 1)).count()\n",
    "fp = predictions.filter((col(\"ensemble_prediction\") == 1) & (col(\"isFraud\") == 0)).count()\n",
    "precision = tp / (tp + fp)\n",
    "print(\"Accuracy:\", accuracy)\n",
    "print(\"Precision:\", precision)\n",
    "print(\"Recall:\", recall)\n"
   ]
  },
  {
   "cell_type": "code",
   "execution_count": null,
   "id": "b21099a1",
   "metadata": {},
   "outputs": [],
   "source": [
    "# LOGISTIC REGRESSION Metrics\n",
    "# Compute accuracy\n",
    "correct_count = predictions.filter(col(\"rf_prediction\") == col(\"isFraud\")).count()\n",
    "accuracy = correct_count / total_count\n",
    "\n",
    "# Compute recall (true positive rate)\n",
    "tp = predictions.filter((col(\"rf_prediction\") == 1) & (col(\"isFraud\") == 1)).count()\n",
    "fn = predictions.filter((col(\"rf_prediction\") == 0) & (col(\"isFraud\") == 1)).count()\n",
    "recall = tp / (tp + fn)\n",
    "\n",
    "# Compute precision\n",
    "tp = predictions.filter((col(\"rf_prediction\") == 1) & (col(\"isFraud\") == 1)).count()\n",
    "fp = predictions.filter((col(\"rf_prediction\") == 1) & (col(\"isFraud\") == 0)).count()\n",
    "precision = tp / (tp + fp)\n",
    "\n",
    "print(\"Accuracy:\", accuracy)\n",
    "print(\"Precision:\", precision)\n",
    "print(\"Recall:\", recall)"
   ]
  },
  {
   "cell_type": "code",
   "execution_count": null,
   "id": "a336ed61",
   "metadata": {},
   "outputs": [],
   "source": [
    "# GBT Metrics\n",
    "# Compute accuracy\n",
    "correct_count = predictions.filter(col(\"gbt_prediction\") == col(\"isFraud\")).count()\n",
    "accuracy = correct_count / total_count\n",
    "\n",
    "# Compute recall (true positive rate)\n",
    "tp = predictions.filter((col(\"gbt_prediction\") == 1) & (col(\"isFraud\") == 1)).count()\n",
    "fn = predictions.filter((col(\"gbt_prediction\") == 0) & (col(\"isFraud\") == 1)).count()\n",
    "recall = tp / (tp + fn)\n",
    "\n",
    "# Compute precision\n",
    "tp = predictions.filter((col(\"gbt_prediction\") == 1) & (col(\"isFraud\") == 1)).count()\n",
    "fp = predictions.filter((col(\"gbt_prediction\") == 1) & (col(\"isFraud\") == 0)).count()\n",
    "precision = tp / (tp + fp)\n",
    "\n",
    "print(\"Accuracy:\", accuracy)\n",
    "print(\"Precision:\", precision)\n",
    "print(\"Recall:\", recall)"
   ]
  },
  {
   "cell_type": "code",
   "execution_count": null,
   "id": "21c4a02e",
   "metadata": {},
   "outputs": [],
   "source": [
    "# RandomForest Metrics\n",
    "# Compute accuracy\n",
    "correct_count = predictions.filter(col(\"lr_prediction\") == col(\"isFraud\")).count()\n",
    "accuracy = correct_count / total_count\n",
    "\n",
    "# Compute recall (true positive rate)\n",
    "tp = predictions.filter((col(\"lr_prediction\") == 1) & (col(\"isFraud\") == 1)).count()\n",
    "fn = predictions.filter((col(\"lr_prediction\") == 0) & (col(\"isFraud\") == 1)).count()\n",
    "recall = tp / (tp + fn)\n",
    "\n",
    "# Compute precision\n",
    "tp = predictions.filter((col(\"lr_prediction\") == 1) & (col(\"isFraud\") == 1)).count()\n",
    "fp = predictions.filter((col(\"lr_prediction\") == 1) & (col(\"isFraud\") == 0)).count()\n",
    "precision = tp / (tp + fp)\n",
    "\n",
    "print(\"Accuracy:\", accuracy)\n",
    "print(\"Precision:\", precision)\n",
    "print(\"Recall:\", recall)"
   ]
  }
 ],
 "metadata": {
  "kernelspec": {
   "display_name": "Python 3 (ipykernel)",
   "language": "python",
   "name": "python3"
  },
  "language_info": {
   "codemirror_mode": {
    "name": "ipython",
    "version": 3
   },
   "file_extension": ".py",
   "mimetype": "text/x-python",
   "name": "python",
   "nbconvert_exporter": "python",
   "pygments_lexer": "ipython3",
   "version": "3.9.12"
  }
 },
 "nbformat": 4,
 "nbformat_minor": 5
}
