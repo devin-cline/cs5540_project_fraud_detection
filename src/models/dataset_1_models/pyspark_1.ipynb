{
 "cells": [
  {
   "cell_type": "code",
   "execution_count": null,
   "id": "dce54194",
   "metadata": {},
   "outputs": [],
   "source": [
    "from pyspark.sql import SparkSession\n",
    "from pyspark.ml.feature import VectorAssembler, MinMaxScaler\n",
    "from pyspark.ml import Pipeline\n",
    "from pyspark.ml.classification import RandomForestClassifier, GBTClassifier, LogisticRegression\n",
    "from pyspark.sql.functions import col, round, when"
   ]
  },
  {
   "cell_type": "code",
   "execution_count": null,
   "id": "0e736649",
   "metadata": {},
   "outputs": [],
   "source": [
    "# create a SparkSession\n",
    "spark = SparkSession.builder.appName(\"EnsembleModel\").getOrCreate()\n",
    "\n",
    "# read the csv\n",
    "data = spark.read.csv(\"../../../data/model_data.csv\", header=True, inferSchema=True)\n",
    "data.show(5)"
   ]
  },
  {
   "cell_type": "code",
   "execution_count": null,
   "id": "60381c9b",
   "metadata": {},
   "outputs": [],
   "source": [
    "# assemble the feature vector\n",
    "feature_cols = [col for col in data.columns if col != \"isFraud\"]\n",
    "assembler = VectorAssembler(inputCols=feature_cols, outputCol=\"rawFeatures\")\n",
    "data = assembler.transform(data)\n",
    "data.show(5)"
   ]
  },
  {
   "cell_type": "code",
   "execution_count": null,
   "id": "65f58c18",
   "metadata": {},
   "outputs": [],
   "source": [
    "# apply MinMaxScaler for scaling the features\n",
    "assembler = VectorAssembler(inputCols=[\"rawFeatures\"], outputCol=\"features\")\n",
    "data = assembler.transform(data)\n",
    "\n",
    "scaler = MinMaxScaler(inputCol=\"features\", outputCol=\"scaledFeatures\", min=0.0, max=1.0)\n",
    "scalerModel = scaler.fit(data)\n",
    "\n",
    "data = scalerModel.transform(data)\n",
    "data.show(5)"
   ]
  },
  {
   "cell_type": "code",
   "execution_count": null,
   "id": "ba60bf9a",
   "metadata": {},
   "outputs": [],
   "source": [
    "# create class weight column based on values created by compute_class_weight used in other models\n",
    "data = data.withColumn('weight', when(col('isFraud') == 0, 0.5006457829418431).otherwise(387.6269799825936))\n",
    "data.show(5)"
   ]
  },
  {
   "cell_type": "code",
   "execution_count": null,
   "id": "2fb128d7",
   "metadata": {},
   "outputs": [],
   "source": [
    "# split into training and test\n",
    "train, test = data.randomSplit([0.8, 0.2], seed=1)"
   ]
  },
  {
   "cell_type": "code",
   "execution_count": null,
   "id": "955c0cd1",
   "metadata": {},
   "outputs": [],
   "source": [
    "# create models\n",
    "rf = RandomForestClassifier(labelCol=\"isFraud\", featuresCol=\"scaledFeatures\", numTrees=64, rawPredictionCol=\"rf_rawPrediction\", predictionCol=\"rf_prediction\", probabilityCol=\"rf_probability\", seed=1,  weightCol=\"weight\")\n",
    "gbt = GBTClassifier(labelCol=\"isFraud\", featuresCol=\"scaledFeatures\", maxIter=20, predictionCol=\"gbt_prediction\", seed=1,  weightCol=\"weight\")\n",
    "lr = LogisticRegression(labelCol=\"isFraud\", featuresCol=\"scaledFeatures\", rawPredictionCol=\"lr_rawPrediction\", predictionCol=\"lr_prediction\", probabilityCol=\"lr_probability\",  weightCol=\"weight\")\n",
    "\n",
    "\n",
    "models = [rf, gbt, lr]"
   ]
  },
  {
   "cell_type": "code",
   "execution_count": null,
   "id": "302844b3",
   "metadata": {},
   "outputs": [],
   "source": [
    "# train eval and export models\n",
    "def train_eval_export(model):\n",
    "  # compute accuracy\n",
    "  trained_model = model.fit(train)\n",
    "  predictions = trained_model.transform(train)\n",
    "  correct_count = predictions.filter(col(\"prediction\") == col(\"isFraud\")).count()\n",
    "  accuracy = correct_count / total_count\n",
    "\n",
    "  # compute recall\n",
    "  tp = predictions.filter((col(\"prediction\") == 1) & (col(\"isFraud\") == 1)).count()\n",
    "  fn = predictions.filter((col(\"prediction\") == 0) & (col(\"isFraud\") == 1)).count()\n",
    "  recall = tp / (tp + fn)\n",
    "\n",
    "  # compute precision\n",
    "  tp = predictions.filter((col(\"prediction\") == 1) & (col(\"isFraud\") == 1)).count()\n",
    "  fp = predictions.filter((col(\"prediction\") == 1) & (col(\"isFraud\") == 0)).count()\n",
    "  precision = tp / (tp + fp)\n",
    "  print(model.__class__.__name__+ \" accuracy:\" + accuracy)\n",
    "  print(model.__class__.__name__ + \" precision:\" + precision)\n",
    "  print(model.__class__.__name__ + \" recall:\" + recall)\n",
    "  \n",
    "  # export model\n",
    "  trained_model.save(\"/content/drive/MyDrive/Grad_School/Big_Data_Management/PBDM_Project/\" + model.__class__.__name_ + \"model.parquet\")\n",
    "\n",
    "# number of rows for computing metrics\n",
    "total_count = data.count()\n",
    "\n",
    "for model in models:\n",
    "  train_eval_export(model)"
   ]
  }
 ],
 "metadata": {
  "kernelspec": {
   "display_name": "Python 3 (ipykernel)",
   "language": "python",
   "name": "python3"
  },
  "language_info": {
   "codemirror_mode": {
    "name": "ipython",
    "version": 3
   },
   "file_extension": ".py",
   "mimetype": "text/x-python",
   "name": "python",
   "nbconvert_exporter": "python",
   "pygments_lexer": "ipython3",
   "version": "3.9.12"
  }
 },
 "nbformat": 4,
 "nbformat_minor": 5
}
