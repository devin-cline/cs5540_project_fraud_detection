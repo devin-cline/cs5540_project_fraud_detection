{
 "cells": [
  {
   "cell_type": "code",
   "execution_count": null,
   "id": "dce54194",
   "metadata": {},
   "outputs": [],
   "source": [
    "from pyspark.sql import SparkSession\n",
    "from pyspark.ml.feature import VectorAssembler, MinMaxScaler\n",
    "from pyspark.ml import Pipeline\n",
    "from pyspark.ml.classification import RandomForestClassifier, GBTClassifier, LogisticRegression\n",
    "from pyspark.sql.functions import col, round, when"
   ]
  },
  {
   "cell_type": "code",
   "execution_count": null,
   "id": "0e736649",
   "metadata": {},
   "outputs": [],
   "source": [
    "# create a SparkSession\n",
    "spark = SparkSession.builder.appName(\"OversampledModels\").getOrCreate()\n",
    "\n",
    "# read the csv\n",
    "data = spark.read.csv(\"../../../data/model_data.csv\", header=True, inferSchema=True)\n",
    "data.show(5)"
   ]
  },
  {
   "cell_type": "code",
   "execution_count": null,
   "id": "60381c9b",
   "metadata": {},
   "outputs": [],
   "source": [
    "# define the feature columns\n",
    "feature_cols = [col for col in data.columns if col != \"isFraud\"]\n",
    "\n",
    "# calculate class frequencies\n",
    "class_frequencies = data.groupBy(\"isFraud\").count()\n",
    "fraud_count = class_frequencies.filter(col(\"isFraud\") == 1).select(\"count\").first()[0]\n",
    "non_fraud_count = class_frequencies.filter(col(\"isFraud\") == 0).select(\"count\").first()[0]\n",
    "\n",
    "# calculate oversampling ratio\n",
    "oversampling_ratio = non_fraud_count / fraud_count\n",
    "\n",
    "# split the data into train and test sets\n",
    "train_data, test_data = data.randomSplit([0.8, 0.2], seed=1)\n",
    "\n",
    "# oversample the minority class in the training set\n",
    "oversampled_minority = train_data.filter(col(\"isFraud\") == 1).sample(True, oversampling_ratio, seed=1)\n",
    "\n",
    "# combine oversampled minority class with majority class in the training set\n",
    "balanced_train_data = train_data.filter(col(\"isFraud\") == 0).union(oversampled_minority)\n",
    "\n",
    "# define the preprocessing pipeline for the features\n",
    "preprocessing_pipeline = Pipeline(stages=[\n",
    "    VectorAssembler(inputCols=feature_cols, outputCol=\"features\"),\n",
    "    MinMaxScaler(inputCol=\"features\", outputCol=\"scaledFeatures\")\n",
    "])\n",
    "\n",
    "# fit preprocessing pipeline to the balanced training set\n",
    "preprocessing_model = preprocessing_pipeline.fit(balanced_train_data)\n",
    "\n",
    "# # Save the fitted preprocessing pipeline to disk\n",
    "# preprocessing_model.save(\"/content/drive/MyDrive/Grad_School/Big_Data_Management/PBDM_Project/preprocessing_pipeline.parquet\")\n",
    "\n",
    "# apply the preprocessing pipeline to the train and test sets\n",
    "preprocessed_train_data = preprocessing_model.transform(balanced_train_data)\n",
    "preprocessed_test_data = preprocessing_model.transform(test_data)\n",
    "\n",
    "# define the models\n",
    "rf = RandomForestClassifier(labelCol=\"isFraud\", featuresCol=\"scaledFeatures\", numTrees=100, seed=1)\n",
    "gbt = GBTClassifier(labelCol=\"isFraud\", featuresCol=\"scaledFeatures\", maxIter=20, seed=1)\n",
    "lr = LogisticRegression(labelCol=\"isFraud\", featuresCol=\"scaledFeatures\")"
   ]
  },
  {
   "cell_type": "code",
   "execution_count": null,
   "id": "89a3cb01",
   "metadata": {},
   "outputs": [],
   "source": [
    "# fit the models\n",
    "rf_model = rf.fit(preprocessed_train_data)"
   ]
  },
  {
   "cell_type": "code",
   "execution_count": null,
   "id": "80f9e6e0",
   "metadata": {},
   "outputs": [],
   "source": [
    "lr_model = lr.fit(preprocessed_train_data)"
   ]
  },
  {
   "cell_type": "code",
   "execution_count": null,
   "id": "19f876bf",
   "metadata": {},
   "outputs": [],
   "source": [
    "gbt_model = gbt.fit(preprocessed_train_data)"
   ]
  },
  {
   "cell_type": "code",
   "execution_count": null,
   "id": "302844b3",
   "metadata": {},
   "outputs": [],
   "source": [
    "def eval_model(model):\n",
    "  # Make predictions on the preprocessed test data\n",
    "  predictions = model.transform(preprocessed_test_data)\n",
    "  correct_count = predictions.filter(col(\"prediction\") == col(\"isFraud\")).count()\n",
    "  accuracy = correct_count / total_count\n",
    "\n",
    "  # compute recall\n",
    "  tp = predictions.filter((col(\"prediction\") == 1) & (col(\"isFraud\") == 1)).count()\n",
    "  fn = predictions.filter((col(\"prediction\") == 0) & (col(\"isFraud\") == 1)).count()\n",
    "  recall = tp / (tp + fn)\n",
    "\n",
    "  # compute precision\n",
    "  fp = predictions.filter((col(\"prediction\") == 1) & (col(\"isFraud\") == 0)).count()\n",
    "  precision = tp / (tp + fp)\n",
    "\n",
    "  print(model.__class__.__name__+ \" accuracy: {:.4f}\".format(accuracy))\n",
    "  print(model.__class__.__name__ + \" precision: {:.4f}\".format(precision))\n",
    "  print(model.__class__.__name__ + \" recall: {:.4f}\".format(recall))\n",
    "    \n",
    "models = [rf_model, gbt_model, lr_model]\n",
    "\n",
    "# number of rows for computing metrics\n",
    "total_count = data.count()\n",
    "    \n",
    "for model in models:\n",
    "  eval_model(model)"
   ]
  }
 ],
 "metadata": {
  "kernelspec": {
   "display_name": "Python 3 (ipykernel)",
   "language": "python",
   "name": "python3"
  },
  "language_info": {
   "codemirror_mode": {
    "name": "ipython",
    "version": 3
   },
   "file_extension": ".py",
   "mimetype": "text/x-python",
   "name": "python",
   "nbconvert_exporter": "python",
   "pygments_lexer": "ipython3",
   "version": "3.9.12"
  }
 },
 "nbformat": 4,
 "nbformat_minor": 5
}
