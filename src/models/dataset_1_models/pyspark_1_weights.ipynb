{
 "cells": [
  {
   "cell_type": "code",
   "execution_count": null,
   "id": "dce54194",
   "metadata": {},
   "outputs": [],
   "source": [
    "from pyspark.sql import SparkSession\n",
    "from pyspark.ml.feature import VectorAssembler, MinMaxScaler\n",
    "from pyspark.ml import Pipeline\n",
    "from pyspark.ml.classification import RandomForestClassifier, GBTClassifier, LogisticRegression\n",
    "from pyspark.sql.functions import col, round, when"
   ]
  },
  {
   "cell_type": "code",
   "execution_count": null,
   "id": "0e736649",
   "metadata": {},
   "outputs": [],
   "source": [
    "# create a SparkSession\n",
    "spark = SparkSession.builder.appName(\"WeightModels\").getOrCreate()\n",
    "\n",
    "# read the csv\n",
    "data = spark.read.csv(\"../../../data/model_data.csv\", header=True, inferSchema=True)\n",
    "data.show(5)"
   ]
  },
  {
   "cell_type": "code",
   "execution_count": null,
   "id": "60381c9b",
   "metadata": {},
   "outputs": [],
   "source": [
    "# define the feature columns\n",
    "feature_cols = [col for col in data.columns if col != \"isFraud\"]\n",
    "\n",
    "# define the preprocessing pipeline for the features\n",
    "preprocessing_pipeline = Pipeline(stages=[\n",
    "    VectorAssembler(inputCols=feature_cols, outputCol=\"features\"),\n",
    "    MinMaxScaler(inputCol=\"features\", outputCol=\"scaledFeatures\")\n",
    "])\n",
    "\n",
    "# fit preprocessing pipeline to dataset\n",
    "preprocessing_model = preprocessing_pipeline.fit(data)\n",
    "\n",
    "# # save the fitted preprocessing pipeline to disk\n",
    "# preprocessing_model.save(\"/content/drive/MyDrive/Grad_School/Big_Data_Management/PBDM_Project/preprocessing_pipeline.parquet\")\n",
    "\n",
    "preprocessed_data = preprocessing_model.transform(data)\n",
    "\n",
    "preprocessed_data.show(5)"
   ]
  },
  {
   "cell_type": "code",
   "execution_count": null,
   "id": "65f58c18",
   "metadata": {},
   "outputs": [],
   "source": [
    "# create class weight column using weights from sklearn compute class weight results in other model files\n",
    "preprocessed_data = preprocessed_data.withColumn('weight', when(col('isFraud') == 0, 0.5006457829418431).otherwise(387.6269799825936))\n",
    "preprocessed_data.show(5)"
   ]
  },
  {
   "cell_type": "code",
   "execution_count": null,
   "id": "2fb128d7",
   "metadata": {},
   "outputs": [],
   "source": [
    "# split into training and test\n",
    "train, test = data.randomSplit([0.8, 0.2], seed=1)"
   ]
  },
  {
   "cell_type": "code",
   "execution_count": null,
   "id": "955c0cd1",
   "metadata": {},
   "outputs": [],
   "source": [
    "# create models\n",
    "rf = RandomForestClassifier(labelCol=\"isFraud\", featuresCol=\"scaledFeatures\", numTrees=100, seed=1,  weightCol=\"weight\")\n",
    "gbt = GBTClassifier(labelCol=\"isFraud\", featuresCol=\"scaledFeatures\", maxIter=20, seed=1,  weightCol=\"weight\")\n",
    "lr = LogisticRegression(labelCol=\"isFraud\", featuresCol=\"scaledFeatures\", weightCol=\"weight\")\n"
   ]
  },
  {
   "cell_type": "code",
   "execution_count": null,
   "id": "26eec930",
   "metadata": {},
   "outputs": [],
   "source": [
    "# train models\n",
    "rf_model = rf.fit(train)"
   ]
  },
  {
   "cell_type": "code",
   "execution_count": null,
   "id": "4b931479",
   "metadata": {},
   "outputs": [],
   "source": [
    "gbt_model = gbt.fit(train)"
   ]
  },
  {
   "cell_type": "code",
   "execution_count": null,
   "id": "d07bea40",
   "metadata": {},
   "outputs": [],
   "source": [
    "lr_model = lr.fit(train)"
   ]
  },
  {
   "cell_type": "code",
   "execution_count": null,
   "id": "302844b3",
   "metadata": {},
   "outputs": [],
   "source": [
    "# evaluate models\n",
    "def eval_model(model):\n",
    "  # compute accuracy\n",
    "  predictions = model.transform(train)\n",
    "  correct_count = predictions.filter(col(\"prediction\") == col(\"isFraud\")).count()\n",
    "  accuracy = correct_count / total_count\n",
    "\n",
    "  # compute recall\n",
    "  tp = predictions.filter((col(\"prediction\") == 1) & (col(\"isFraud\") == 1)).count()\n",
    "  fn = predictions.filter((col(\"prediction\") == 0) & (col(\"isFraud\") == 1)).count()\n",
    "  recall = tp / (tp + fn)\n",
    "\n",
    "  # compute precision\n",
    "  fp = predictions.filter((col(\"prediction\") == 1) & (col(\"isFraud\") == 0)).count()\n",
    "  precision = tp / (tp + fp)\n",
    "\n",
    "  print(model.__class__.__name__+ \" accuracy: {:.4f}\".format(accuracy))\n",
    "  print(model.__class__.__name__ + \" precision: {:.4f}\".format(precision))\n",
    "  print(model.__class__.__name__ + \" recall: {:.4f}\".format(recall))\n",
    "  \n",
    "# number of rows for computing metrics\n",
    "total_count = data.count()\n",
    "\n",
    "models = [rf_model, gbt_model, lr_model]\n",
    "\n",
    "for model in models:\n",
    "  eval_model(model)"
   ]
  },
  {
   "cell_type": "code",
   "execution_count": null,
   "id": "7aea13db",
   "metadata": {},
   "outputs": [],
   "source": [
    "# for use in google colab\n",
    "# export models\n",
    "for model in models:\n",
    "  model.save(\"/content/drive/MyDrive/Grad_School/Big_Data_Management/PBDM_Project/\" + model.__class__.__name__ + \".parquet\")"
   ]
  }
 ],
 "metadata": {
  "kernelspec": {
   "display_name": "Python 3 (ipykernel)",
   "language": "python",
   "name": "python3"
  },
  "language_info": {
   "codemirror_mode": {
    "name": "ipython",
    "version": 3
   },
   "file_extension": ".py",
   "mimetype": "text/x-python",
   "name": "python",
   "nbconvert_exporter": "python",
   "pygments_lexer": "ipython3",
   "version": "3.9.12"
  }
 },
 "nbformat": 4,
 "nbformat_minor": 5
}
